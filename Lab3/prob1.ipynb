from pgmpy.models import DiscreteBayesianNetwork 
from pgmpy.factors.discrete import TabularCPD
from pgmpy.inference import VariableElimination

model=DiscreteBayesianNetwork([('S','O'),('S','L'),('S','M'),('L','M')])

#calculam probabilitatile conditionate
cpd_S=TabularCPD(variable='S',variable_card=2,values=[[0.6],[0.4]])

cpd_O=TabularCPD(variable='O',variable_card=2,values=[[0.9,0.3],[0.1,0.7]],evidence=['S'],evidence_card=[2])

cpd_L=TabularCPD(variable='L',variable_card=2,values=[[0.7,0.2],[0.3,0.8]],evidence=['S'],evidence_card=[2])

cpd_M=TabularCPD(variable='M',variable_card=2,values=[[0.8,0.4,0.1,0.5],[0.2,0.6,0.9,0.5]],evidence=['S','L'],evidence_card=[2,2])

model.add_cpds(cpd_S,cpd_O,cpd_L,cpd_M)

print("Model valid:",model.check_model()) # verificam daca toate cpd-urile sunt corectr


infer=VariableElimination(model)
rez=infer.query(variables=['S'],evidence={'O':1,'L':1,'M':1})
print(rez)

#Am caculat prob ca emailul sa fie spam si non spam
#daca un email contine offer, linkuri si este lung, modelul transmite ca este f probabil sa fie spa

