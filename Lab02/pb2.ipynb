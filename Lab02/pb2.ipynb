import matplotlib.pyplot as plt
import numpy as np

np.random.seed(42)

X1=np.random.poisson(lam=1,size=1000)
X2=np.random.poisson(lam=2,size=1000)
X3=np.random.poisson(lam=5,size=1000)
X4=np.random.poisson(lam=10,size=1000)


lambdas = [1,2,5,10]
X_ran=[]
for i in range(1000):
  lam=np.random.choice(lambdas)
  x=np.random.poisson(lam)
  X_ran.append(x)

X_ran=np.array(X_ran)


plt.figure(figsize=(15,8))
datasets=[X1,X2,X3,X4,X_ran]
names=['Poisson(1)','Poisson(2)','Poisson(5)','Poisson(10)','RandomPoisson']
for i,data in enumerate(datasets,1):
  plt.subplot(2,3,i)
  plt.hist(data,bins=range(0,max(data)+2),density=True)
  plt.title(names[i-1])
  plt.xlabel('Numar de apeluri')
  plt.ylabel('Frecventa relativa')

plt.tight_layout()
plt.show()
