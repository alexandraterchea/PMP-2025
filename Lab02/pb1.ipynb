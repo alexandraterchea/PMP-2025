import random 

rosii=3
albastre=4
negre=2

n=10000 #nr de rep
r_extrase=0

zar=random.randint(1,6)

if zar in [2,3,5]:
    negre=negre+1
elif zar==6:
    rosii=rosii+1
else:
    albastre=albastre+1

total=rosii+albastre+negre
x=random.randint(1,total)

if x<=rosii:
  bila='rosie'
elif x<=rosii+albastre:
 bila='albastra'
else:
  bila='neagra'
print("Bila este:", bila)

for i in range(n):
  r=rosii
  a=albastre
  ng=negre
  zar=random.randint(1,6)
  #adaugam bila in urna 
  if zar in [2,3,5]:
    ng=ng+1
  elif zar==6:
    r=r+1
  else:
    a=a+1
  total=r+a+ng
  x=random.randint(1,total)
  if x<=r:
   r_extrase=r_extrase+1

prob=r_extrase/n
print("Probabilitatea ca bila sa fie rosie este:", round(prob,4))
