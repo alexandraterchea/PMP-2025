!pip install pgmpy --quiet

import networkx as nx
from pgmpy.factors.discrete import DiscreteFactor
from pgmpy.models import MarkovNetwork
import numpy as np
from itertools import product
import matplotlib.pyplot as plt


nodes = ['A1','A2','A3','A4','A5']
edges = [('A1','A2'), ('A1','A3'), ('A2','A4'), ('A2','A5'), ('A3','A4'), ('A4','A5')]


G = nx.Graph()
G.add_nodes_from(nodes)
G.add_edges_from(edges)

pos = nx.spring_layout(G, seed=1)
nx.draw(G, pos, with_labels=True, node_color='lightblue', node_size=700)
plt.show()


mn=MarkovNetwork()
mn.add_nodes_from(nodes)
mn.add_edges_from(edges)


cliques = list(nx.find_cliques(G))
print("Cliques (maximale):", cliques)

state_values=[-1,1]
card=2
factors=[]

for clique in cliques:
  k=len(clique)
  values=[]
  for assignment in product([0,1],repeat=k):
    val_sum=0
    for idx,state_index in enumerate(assignment):
      ak=state_values[state_index]
      ik=1
      val_sum+=ik*ak
    phi=np.exp(val_sum)
    values.append(phi)
  values=np.array(values).reshape([card]*k)
  factor=DiscreteFactor(variables=clique,cardinality=[card]*k,values=values)
  factors.append(factor)
  mn.add_factors(factor)

print("Am adăugat", len(factors), "factori în MarkovNetwork.")

all_configs = list(product([0,1], repeat=5))  
unnormalized = []
for cfg in all_configs:
    assign = {nodes[i]: cfg[i] for i in range(5)}
    prod = 1.0
    for f in factors:
        idxs = [assign[var] for var in f.variables]
        val = f.values[tuple(idxs)]
        prod *= val
    unnormalized.append(prod)

Z = sum(unnormalized)
probs = [u / Z for u in unnormalized]

imax = int(np.argmax(probs))
map_cfg_idx = all_configs[imax]

map_cfg_values = tuple(state_values[i] for i in map_cfg_idx)

print("\nNumar total configuratii:", len(all_configs))
print("MAP configuration indices (0->-1,1->+1):", map_cfg_idx)
print("MAP configuration (A1..A5) in valori -1/+1:", map_cfg_values)
print("Probabilitatea (marginala) a acestei configuratii:", probs[imax])

print("\nPrimele 8 configuratii si probabilitatile lor (indice->valoare):")
for i in range(8):
    cfg_idx = all_configs[i]
    vals = tuple(state_values[j] for j in cfg_idx)
    print(i, cfg_idx, "->", vals, " : p =", round(probs[i], 5))






