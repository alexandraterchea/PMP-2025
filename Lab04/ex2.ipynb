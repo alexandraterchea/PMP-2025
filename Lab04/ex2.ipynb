#!pip install pgmpy --quiet
import numpy as np
import matplotlib.pyplot as plt
from pgmpy.models import MarkovNetwork
from pgmpy.factors.discrete import DiscreteFactor
from pgmpy.inference import BeliefPropagation

#pt generarea imaginii
np.random.seed(0)
original = np.random.choice([0, 1], size=(5,5))
plt.imshow(original, cmap='gray')
plt.title("Original image")
plt.show()

#adaugam zgomot
noisy = original.copy()
num_noisy = int(0.1 * noisy.size)
indices = np.random.choice(noisy.size, num_noisy, replace=False)
for idx in indices:
    r, c = divmod(idx, noisy.shape[1])
    noisy[r, c] = 1 - noisy[r, c]  #inversam pixelul 

plt.imshow(noisy, cmap='gray')
plt.title("Noisy image")
plt.show()

mn = MarkovNetwork()
nodes = [(r, c) for r in range(5) for c in range(5)]
mn.add_nodes_from(nodes)

edges = []
for r in range(5):
    for c in range(5):
        if r > 0: edges.append(((r, c), (r-1, c)))  #sus
        if r < 4: edges.append(((r, c), (r+1, c)))  #jos
        if c > 0: edges.append(((r, c), (r, c-1)))  #stg
        if c < 4: edges.append(((r, c), (r, c+1)))  #dr
mn.add_edges_from(edges)


λ = 2.0

factors = []
for r in range(5):
    for c in range(5):
        y = noisy[r, c]
        phi = np.array([np.exp(-λ*(x - y)**2) for x in [0,1]])
        factors.append(DiscreteFactor(variables=[(r,c)], cardinality=[2], values=phi))

beta = 1.0
for (i, j) in edges:
    phi = np.zeros((2,2))
    for xi in [0,1]:
        for xj in [0,1]:
            phi[xi, xj] = np.exp(-beta*(xi - xj)**2)
    factors.append(DiscreteFactor(variables=[i,j], cardinality=[2,2], values=phi))

mn.add_factors(*factors)

bp = BeliefPropagation(mn)
map_result = bp.map_query(variables=nodes)

denoised = np.zeros((5,5))
for (r,c), val in map_result.items():
    denoised[r,c] = val

plt.imshow(denoised, cmap='gray')
plt.title("Denoised (MAP)")
plt.show()

print("Original image:\n", original)
print("\nNoisy image:\n", noisy)
print("\nDenoised (MAP) image:\n", denoised)
